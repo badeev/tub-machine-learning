{
 "cells": [
  {
   "cell_type": "markdown",
   "metadata": {},
   "source": [
    "# k-NN Perfomance Boosting\n",
    "\n",
    "The one that could learn from the data, and that also offered enough complexity to produce an accurate decision function is k-nearest neighbors. Nearest neighbors can be slow when implemented in pure Python (i.e. with loops). This is especially the case when the number of data points or input dimensions is large.\n",
    "\n",
    "The goal is to speed up nearest neighbors algorithm. In the notebook we are going **replace list-based operations by vector-based operations** between numpy arrays. The speed and correctness of the implementations will then be tested. In particular, performance graphs will be drawn."
   ]
  },
  {
   "cell_type": "markdown",
   "metadata": {},
   "source": [
    "## Nearest Neighbor: Pure Python\n",
    "\n",
    "The most basic element of computation of nearest neighbors is its distance function relating two arbitrary data points `x1` and `x2`. We assume that these points are iterable (i.e. we can use a loop over their dimensions). One way among others to compute the square Euclidean distance between two points is by computing the sum of the component-wise distances."
   ]
  },
  {
   "cell_type": "code",
   "execution_count": 1,
   "metadata": {
    "deletable": false,
    "editable": false,
    "nbgrader": {
     "checksum": "97647017c26037054b7a01b261a9e9c9",
     "grade": false,
     "grade_id": "cell-1b37d48b31ec0e79",
     "locked": true,
     "schema_version": 1,
     "solution": false
    }
   },
   "outputs": [],
   "source": [
    "def pydistance(x1, x2):\n",
    "    return sum([(x1d - x2d) ** 2 for x1d, x2d in zip(x1, x2)])"
   ]
  },
  {
   "cell_type": "markdown",
   "metadata": {},
   "source": [
    "where we use the prefix \"`py-`\" of the function to indicate that the latter makes use of pure `Python` instead of `numpy`. Once the distance matrix has been implemented, the nearest neighbor for a given unlabeled point `u` that we would like to classify is obtained by iterating over all points in the training set `(X, Y)`, selecting the point with smallest distance to `u`, and returning its corresponding label. Here `X` denotes the list of inputs in the training set and `Y` denotes the list of labels."
   ]
  },
  {
   "cell_type": "code",
   "execution_count": 2,
   "metadata": {
    "deletable": false,
    "editable": false,
    "nbgrader": {
     "checksum": "8158c17a5f44f10a8549f046d6cb00bd",
     "grade": false,
     "grade_id": "cell-66259b233d864979",
     "locked": true,
     "schema_version": 1,
     "solution": false
    }
   },
   "outputs": [],
   "source": [
    "def pynearest(u, X, Y, distance=pydistance):\n",
    "    xbest = None\n",
    "    ybest = None\n",
    "    dbest = float('inf')\n",
    "    \n",
    "    for x, y in zip(X, Y):\n",
    "        d = distance(u, x)\n",
    "        if d < dbest:\n",
    "            ybest = y\n",
    "            xbest = x\n",
    "            dbest = d\n",
    "            \n",
    "    return ybest"
   ]
  },
  {
   "cell_type": "markdown",
   "metadata": {},
   "source": [
    "Note that this function either uses function `pydistance` (given as default if the argument distance is not specified). Or one could specify as argument a more optimized function for distance compuation, for example, one that uses `numpy`. Finally, one might not be interested in classifying a single point, but many of them. The method below receives a collection of such unlabeled test points stored in the variable `U`. The function returns a list of predictions associated to each test point."
   ]
  },
  {
   "cell_type": "code",
   "execution_count": 3,
   "metadata": {
    "deletable": false,
    "editable": false,
    "nbgrader": {
     "checksum": "41e2a05bf27243a2b2b92a2205935ef7",
     "grade": false,
     "grade_id": "cell-1673d3f81bce46ae",
     "locked": true,
     "schema_version": 1,
     "solution": false
    }
   },
   "outputs": [],
   "source": [
    "def pybatch(U, X, Y, nearest=pynearest, distance=pydistance):\n",
    "    return [nearest(u, X, Y, distance=distance) for u in U]"
   ]
  },
  {
   "cell_type": "markdown",
   "metadata": {},
   "source": [
    "Again, such function uses by default the Python nearest neighbor search (with a specified distance function). However, we can also specified a more optimized nearest neighbor function, for example, based on `numpy`. Finally, one could consider an alternative function to `pybatch` that would use `numpy` from the beginning to the end. The implementation of such more optimized functions, and the testing of their correct behavior and higher performance will be the object of this exercise sheet."
   ]
  },
  {
   "cell_type": "markdown",
   "metadata": {},
   "source": [
    "## Nearest Neighbor: Testing and correctness\n",
    "\n",
    "As a starting point, the code below tests the output of the nearest neighbor algorithm for some toy dataset with fixed parameters. In particular, the function `data.toy(M,N,d)` generates a problem with `M` unlabeled test points stored in a matrix `U` of size `(M x d)`, then `N` labeled training points stored in a matrix `X` of size `(N x d)` and the output label is stored in a vector `Y` of size `N` composed of zeros and ones encoding the two possible classes. The variable `d` denotes the number of dimensions of each point. The toy dataset is pseudo-random, that is, for fixed parameters, it produce a random-looking dataset, but every time the method is called with the same parameters, the dataset is the same. The pseudo-randomness property will be useful to verify that each nearest neighbor implementation performs the same overall computation. Please check the `data.py` file within the folder for the implementation details. "
   ]
  },
  {
   "cell_type": "code",
   "execution_count": 4,
   "metadata": {
    "deletable": false,
    "editable": false,
    "nbgrader": {
     "checksum": "799947e60242cee8bb88b436ff734e51",
     "grade": false,
     "grade_id": "cell-79632e7653dd78cc",
     "locked": true,
     "schema_version": 1,
     "solution": false
    }
   },
   "outputs": [
    {
     "name": "stdout",
     "output_type": "stream",
     "text": [
      "[1, 1, 1, 0, 0, 1, 0, 1, 1, 0, 1, 1, 1, 0, 1, 0, 1, 1, 1, 0]\n"
     ]
    }
   ],
   "source": [
    "import data\n",
    "U, X, Y = data.toy(20, 100, 50)\n",
    "print(pybatch(U, X, Y))"
   ]
  },
  {
   "cell_type": "markdown",
   "metadata": {},
   "source": [
    "In particular, the output of this function will help us to verify that the more optimized `numpy`-based versions of nearest neighbor are still valid."
   ]
  },
  {
   "cell_type": "markdown",
   "metadata": {},
   "source": [
    "## Nearest Neighbor: Plotting and performance\n",
    "\n",
    "We now describe how to build a plot that relates a certain parameter of the dataset (e.g. the number of input dimensions `d` to the time required for the computation. We first initialize the basic plotting environment."
   ]
  },
  {
   "cell_type": "code",
   "execution_count": 5,
   "metadata": {},
   "outputs": [],
   "source": [
    "import matplotlib\n",
    "from matplotlib import pyplot as plt\n",
    "%matplotlib inline\n",
    "from IPython.display import set_matplotlib_formats\n",
    "#set_matplotlib_formats('pdf', 'png')\n",
    "plt.rcParams['savefig.dpi'] = 90"
   ]
  },
  {
   "cell_type": "markdown",
   "metadata": {},
   "source": [
    "The following code plots the computation time of predicting `100` points from the test set using a training set of size `100`, and where we vary the number of input dimensions."
   ]
  },
  {
   "cell_type": "code",
   "execution_count": 6,
   "metadata": {
    "deletable": false,
    "editable": false,
    "nbgrader": {
     "checksum": "a5967dd2474e29fa43d37799bc139315",
     "grade": false,
     "grade_id": "cell-46485712351bdfcf",
     "locked": true,
     "schema_version": 1,
     "solution": false
    }
   },
   "outputs": [
    {
     "data": {
      "image/png": "[encoded data removed]",
      "text/plain": [
       "<Figure size 360x216 with 1 Axes>"
      ]
     },
     "metadata": {
      "needs_background": "light"
     },
     "output_type": "display_data"
    }
   ],
   "source": [
    "import time\n",
    "import warnings\n",
    "warnings.filterwarnings('ignore')\n",
    "\n",
    "# Values for the number of dimensions d to test\n",
    "dlist = [1, 2, 5, 10, 20, 50, 100]\n",
    "\n",
    "# Measure the computation time for each choice of number of dimensions d\n",
    "tlist = []\n",
    "for d in dlist:\n",
    "    U, X, Y = data.toy(100, 100, d)\n",
    "    X = X.tolist()\n",
    "    a = time.clock()\n",
    "    pybatch(U, X, Y)\n",
    "    b = time.clock()\n",
    "    tlist += [b - a]\n",
    "\n",
    "# Plot the results in a graph\n",
    "plt.figure(figsize=(5, 3))\n",
    "plt.plot(dlist, tlist, '-o')\n",
    "plt.xscale('log'); plt.yscale('log'); plt.xlabel('d'); plt.ylabel('time'); plt.grid(True)"
   ]
  },
  {
   "cell_type": "markdown",
   "metadata": {},
   "source": [
    "The time on the vertical axis is in seconds. Note that the exact computation time depends on the speed of your computer. As expected, the computation time increases with the number of input dimensions. Unfortunately, for the small dataset considered here (`100` training and test points of `100` dimensions each), the algorithm already takes more than one second to execute. Thus, it is necessary for practical applications to accelerate this nearest neighbor algorithm."
   ]
  },
  {
   "cell_type": "markdown",
   "metadata": {},
   "source": [
    "## Accelerating the distance computation\n",
    "\n",
    "Create a new function `npdistance(x1,x2)` with the same output as `pydistance(x1,x2)`, but that computes the squared Euclidean distance using `numpy` operations. Verify that in both cases (i.e. using either `npdistance` or `pydistance` in the function `pybatch`) the output for the above toy example with parameters `M=20`, `N=100`, `d=50` (i.e. `data.toy(20,100,50)`) remains the same. The input vectors can be either `Python Lists` or `Numpy Arrays` so make sure that your function can handle both cases."
   ]
  },
  {
   "cell_type": "code",
   "execution_count": 7,
   "metadata": {
    "deletable": false,
    "nbgrader": {
     "checksum": "2e732dae8fd34c127cbd0e45b635f25e",
     "grade": false,
     "grade_id": "cell-19fc7493b2e8f798",
     "locked": false,
     "schema_version": 1,
     "solution": true
    }
   },
   "outputs": [],
   "source": [
    "import numpy as np\n",
    "def npdistance(x1,x2):\n",
    "    \n",
    "    if not isinstance(x1, np.ndarray): x1 = np.array(x1)\n",
    "    if not isinstance(x2, np.ndarray): x2 = np.array(x2)\n",
    "\n",
    "    return np.sum(np.square(x1-x2))\n",
    "    raise NotImplementedError(\"Replace this line by your code.\")"
   ]
  },
  {
   "cell_type": "code",
   "execution_count": 8,
   "metadata": {
    "deletable": false,
    "editable": false,
    "nbgrader": {
     "checksum": "ea357a9eed12e58b6be80998529dcc37",
     "grade": true,
     "grade_id": "cell-bf963bc80a4dfff6",
     "locked": true,
     "points": 15,
     "schema_version": 1,
     "solution": false
    },
    "scrolled": true
   },
   "outputs": [],
   "source": [
    "# Verify the function\n",
    "assert npdistance([1,2,3], [2,3,4]) == 3\n",
    "assert pybatch(U, X, Y, distance=pydistance) == pybatch(U, X, Y, distance=npdistance)"
   ]
  },
  {
   "cell_type": "markdown",
   "metadata": {},
   "source": [
    "Create a plot similar to the one above, but where the computation time required by both methods are shown in a superposed manner. Here, we fix `M=100`, `N=100`, and we let `d` vary from `1` to `1000`, taking the list of values `[1, 2, 5, 10, 20, 50, 100, 200, 500, 1000]`."
   ]
  },
  {
   "cell_type": "code",
   "execution_count": 9,
   "metadata": {
    "deletable": false,
    "nbgrader": {
     "checksum": "795181f0e5f417997505e2fd4a03b7bd",
     "grade": true,
     "grade_id": "cell-42315eeb7aedb147",
     "locked": false,
     "points": 5,
     "schema_version": 1,
     "solution": true
    }
   },
   "outputs": [
    {
     "data": {
      "image/png": "[encoded data removed]",
      "text/plain": [
       "<Figure size 720x576 with 1 Axes>"
      ]
     },
     "metadata": {
      "needs_background": "light"
     },
     "output_type": "display_data"
    }
   ],
   "source": [
    "dlist = [1, 2, 5, 10, 20, 50, 100,200,500,1000]\n",
    "\n",
    "# Measure the computation time for each choice of number of dimensions d\n",
    "tlistPDist = []\n",
    "tlistNPDist = []\n",
    "for d in dlist:\n",
    "    U, X, Y = data.toy(100, 100, d)\n",
    "    X = X.tolist()\n",
    "    a = time.clock()\n",
    "    pybatch(U, X, Y)\n",
    "    b = time.clock()\n",
    "    tlistPDist += [b - a]\n",
    "    c = time.clock()\n",
    "    pybatch(U,X,Y, distance = npdistance)\n",
    "    d = time.clock()\n",
    "    tlistNPDist += [d-c]\n",
    "    \n",
    "\n",
    "# Plot the results in a graph\n",
    "plt.figure(figsize=(10, 8))\n",
    "plt.plot(dlist, tlistPDist, '-o', color ='blue', label = \"Python\")\n",
    "plt.plot(dlist, tlistNPDist, '-s',color = 'red', label =\"Numpy\")\n",
    "plt.legend(loc = \"upper left\")\n",
    "plt.xscale('log'); plt.yscale('log'); plt.xlabel('d'); plt.ylabel('time'); plt.grid(True)"
   ]
  },
  {
   "cell_type": "code",
   "execution_count": null,
   "metadata": {
    "deletable": false,
    "nbgrader": {
     "checksum": "f33704f34c274f5a6346e07465b57c62",
     "grade": true,
     "grade_id": "cell-9516251f178579b7",
     "locked": false,
     "points": 5,
     "schema_version": 1,
     "solution": true
    }
   },
   "outputs": [],
   "source": []
  },
  {
   "cell_type": "markdown",
   "metadata": {},
   "source": [
    "## Accelerating the search perfomance\n",
    "\n",
    "Motivated by the success of the `numpy` optimized distance computation, we would like further accelerate the code by performing nearest neighbor search directly in `numpy`.\n",
    "Create a new function `npnearest(u,X,Y)` as an alternative to the function `pynearest(u,X,Y,distance=npdistance)` that we have used previously."
   ]
  },
  {
   "cell_type": "code",
   "execution_count": 10,
   "metadata": {
    "deletable": false,
    "nbgrader": {
     "checksum": "830a33b9f6d060da288f3fa0de79c24e",
     "grade": false,
     "grade_id": "cell-abf6acbfd89109a2",
     "locked": false,
     "schema_version": 1,
     "solution": true
    }
   },
   "outputs": [],
   "source": [
    "def npnearest(u, X, Y, distance=npdistance):\n",
    "    \n",
    "    D = ((u.T - np.asarray(X))**2).sum(axis = 1) #idea from ilia, distances\n",
    "    return Y[np.argmin(D)] #np.argmin Returns the indices of the minimum values along an axis\n",
    "U, X, Y = data.toy(20, 100, 50)  \n",
    " "
   ]
  },
  {
   "cell_type": "code",
   "execution_count": 11,
   "metadata": {
    "deletable": false,
    "editable": false,
    "nbgrader": {
     "checksum": "0b5a95b1bdde002ac92f1caf19b07e49",
     "grade": true,
     "grade_id": "cell-9621f0349d332a46",
     "locked": true,
     "points": 15,
     "schema_version": 1,
     "solution": false
    }
   },
   "outputs": [],
   "source": [
    "# Verify the function\n",
    "assert pybatch(U, X, Y, nearest=pynearest) == pybatch(U, X, Y, nearest=npnearest)"
   ]
  },
  {
   "cell_type": "markdown",
   "metadata": {},
   "source": [
    " Create a plot similar to the one above, where the new method is compared to the previous one. Here, we fix `M=100`, `d=100`, and we let `N` take different values `[1, 2, 5, 10, 20, 50, 100, 200, 500, 1000]`."
   ]
  },
  {
   "cell_type": "code",
   "execution_count": 12,
   "metadata": {
    "deletable": false,
    "nbgrader": {
     "checksum": "7e672ebe95da6d8d9dafa710e349913f",
     "grade": true,
     "grade_id": "cell-c0fdf389a1795330",
     "locked": false,
     "points": 10,
     "schema_version": 1,
     "solution": true
    }
   },
   "outputs": [
    {
     "data": {
      "image/png": "[encoded data removed]",
      "text/plain": [
       "<Figure size 720x576 with 1 Axes>"
      ]
     },
     "metadata": {
      "needs_background": "light"
     },
     "output_type": "display_data"
    }
   ],
   "source": [
    "nlist = [1, 2, 5, 10, 20, 50, 100,200,500,1000]\n",
    "\n",
    "# Measure the computation time for each choice of number of dimensions d\n",
    "tlistPDist = []\n",
    "tlistNPDist = []\n",
    "for n in nlist:\n",
    "    U, X, Y = data.toy(100,n , 100)\n",
    "    X = X.tolist()\n",
    "    a = time.clock()\n",
    "    pybatch(U, X, Y, nearest=pynearest)\n",
    "    b = time.clock()\n",
    "    tlistPDist += [b - a]\n",
    "    c = time.clock()\n",
    "    pybatch(U,X,Y, nearest = npnearest)\n",
    "    d = time.clock()\n",
    "    tlistNPDist += [d-c]\n",
    "    \n",
    "\n",
    "# Plot the results in a graph\n",
    "plt.figure(figsize=(10, 8))\n",
    "plt.plot(dlist, tlistPDist, '-o', color ='blue', label = \"Python\")\n",
    "plt.plot(dlist, tlistNPDist, '-s',color = 'red', label =\"Numpy\")\n",
    "plt.legend(loc = \"upper left\")\n",
    "plt.xscale('log'); plt.yscale('log'); plt.xlabel('#Training Data'); plt.ylabel('time'); plt.grid(True)"
   ]
  },
  {
   "cell_type": "markdown",
   "metadata": {},
   "source": [
    "## Accelerating the processing of multiple test points\n",
    "\n",
    "Create a new function `npbatch(U,X,Y)` as a replacement of the implementation `pybatch(U,X,Y,nearest=npnearest)` that we have built previously. Inside this function, use `scipy.spatial.distance.cdist` for the actual distance computation. Again, verify your function for the same toy example as before (i.e. `data.toy(20,100,50)`)."
   ]
  },
  {
   "cell_type": "code",
   "execution_count": 13,
   "metadata": {
    "deletable": false,
    "nbgrader": {
     "checksum": "086a8a7eb3371141c45fc89da679036c",
     "grade": false,
     "grade_id": "cell-58ebbd1ea052789a",
     "locked": false,
     "schema_version": 1,
     "solution": true
    }
   },
   "outputs": [],
   "source": [
    "import scipy\n",
    "def npbatch(U, X, Y, nearest=npnearest, distance=npdistance):\n",
    "    \n",
    "    from scipy.spatial import distance\n",
    "    A = distance.cdist(U, X, 'sqeuclidean') #compute squared euclidean distance\n",
    "    Z = np.argmin(A, axis = 1) #get index of minimal value in each row\n",
    "    return [Y[Z[i]] for i in range(Z.shape[0])] #retun corresponding labels\n",
    "\n",
    "U, X, Y = data.toy(20, 100, 50) "
   ]
  },
  {
   "cell_type": "code",
   "execution_count": 14,
   "metadata": {
    "deletable": false,
    "editable": false,
    "nbgrader": {
     "checksum": "db47d7df8c4f490ce85a6cdd10560cec",
     "grade": true,
     "grade_id": "cell-bf7e49de5ebddbf3",
     "locked": true,
     "points": 15,
     "schema_version": 1,
     "solution": false
    }
   },
   "outputs": [],
   "source": [
    "assert np.all(pybatch(U, X, Y) == npbatch(U, X, Y))"
   ]
  },
  {
   "cell_type": "markdown",
   "metadata": {},
   "source": [
    "Create a plot comparing the computation time of the new implementation compared to the previous one. Here, we fix `N=100`, `d=100`, and we let `M` vary from `1` to `1000` with values `[1, 2, 5, 10, 20, 50, 100, 200, 500, 1000]`."
   ]
  },
  {
   "cell_type": "code",
   "execution_count": 15,
   "metadata": {
    "deletable": false,
    "nbgrader": {
     "checksum": "542f1952b37c867d16f381b3d4b4f56d",
     "grade": true,
     "grade_id": "cell-6abe7c8024b632f8",
     "locked": false,
     "points": 10,
     "schema_version": 1,
     "solution": true
    }
   },
   "outputs": [
    {
     "data": {
      "image/png": "[encoded data removed]",
      "text/plain": [
       "<Figure size 360x216 with 1 Axes>"
      ]
     },
     "metadata": {
      "needs_background": "light"
     },
     "output_type": "display_data"
    }
   ],
   "source": [
    "Mlist = [1, 2, 5, 10, 20, 50, 100, 200, 500, 1000]\n",
    "# Measure the computation time for each choice of number of dimensions d\n",
    "tlist = []\n",
    "ntlist = []\n",
    "for M in Mlist:\n",
    "    U, X, Y = data.toy(100, M, 100)\n",
    "    X = X.tolist()\n",
    "    a = time.clock()\n",
    "    pybatch(U, X, Y)\n",
    "    b = time.clock()\n",
    "    tlist += [b - a]\n",
    "    a2 = time.clock()\n",
    "    npbatch(U, X, Y)\n",
    "    b2 = time.clock()\n",
    "    ntlist += [b2 - a2]\n",
    "\n",
    "# Plot the results in a graph\n",
    "plt.figure(figsize=(5, 3))\n",
    "plt.plot(dlist, tlist, '-s')\n",
    "plt.plot(dlist, ntlist, '-o')\n",
    "#todo: LEGEND\n",
    "plt.xscale('log'); plt.yscale('log'); plt.xlabel('d'); plt.ylabel('time'); plt.grid(True)"
   ]
  },
  {
   "cell_type": "markdown",
   "metadata": {},
   "source": [
    "## Application to digital recognition\n",
    "\n",
    "Having now implemented an efficient K-nearest neighbor classifier, we can test it on real problems with many data points and dimensions. We consider a small handwritten digits recognition dataset, that can be directly obtained from the library `scikit-learn`. This dataset consists of handwritten digits of size `8 x 8` flattened into arrays of size `64`, with class between `0` and `9`. We use a function `data.digits()` to load the data and arrange data points in some predefined order."
   ]
  },
  {
   "cell_type": "code",
   "execution_count": 16,
   "metadata": {
    "deletable": false,
    "editable": false,
    "nbgrader": {
     "checksum": "a0c555d0a13bfe29de4afe4230334600",
     "grade": false,
     "grade_id": "cell-0af1076e9b4ee47b",
     "locked": true,
     "schema_version": 1,
     "solution": false
    }
   },
   "outputs": [],
   "source": [
    "X, Y = data.digits()"
   ]
  },
  {
   "cell_type": "markdown",
   "metadata": {},
   "source": [
    "Using the function `imshow` of `matplotlib.pyplot (plt)` to visualize the first 100 digits of the dataset."
   ]
  },
  {
   "cell_type": "code",
   "execution_count": 17,
   "metadata": {
    "deletable": false,
    "nbgrader": {
     "checksum": "45fbfee610fcc20a1cc026ceab4e970b",
     "grade": true,
     "grade_id": "cell-62a66170b487f137",
     "locked": false,
     "points": 3,
     "schema_version": 1,
     "solution": true
    }
   },
   "outputs": [
    {
     "data": {
      "image/png": "[encoded data removed]",
      "text/plain": [
       "<Figure size 432x288 with 100 Axes>"
      ]
     },
     "metadata": {
      "needs_background": "light"
     },
     "output_type": "display_data"
    }
   ],
   "source": [
    "def train_test_split(x, y):\n",
    "    x_train= x[:1000]\n",
    "    x_test = x[1000:]\n",
    "    y_train= y[:1000]\n",
    "    y_test=  y[1000:]\n",
    "    \n",
    "    return x_train, x_test, y_train, y_test\n",
    "\n",
    "def predict(x_train, x_test, y_train):\n",
    "    y_test = npbatch(x_test,x_train,y_train)\n",
    "    return y_test\n",
    "\n",
    "\n",
    "\n",
    "\n",
    "\n",
    "\n",
    "def plot_first_digits():\n",
    "    for i in range(100):\n",
    "        plt.subplot(10,10,i+1)\n",
    "        plt.imshow(X[i].reshape(8,8),cmap=\"gray\")\n",
    "plot_first_digits()"
   ]
  },
  {
   "cell_type": "code",
   "execution_count": null,
   "metadata": {
    "deletable": false,
    "editable": false,
    "nbgrader": {
     "checksum": "8721b56fe05033ce84df42f4fc730f51",
     "grade": true,
     "grade_id": "cell-e60559d8efeccccb",
     "locked": true,
     "points": 2,
     "schema_version": 1,
     "solution": false
    }
   },
   "outputs": [],
   "source": []
  },
  {
   "cell_type": "markdown",
   "metadata": {},
   "source": [
    "Partition the data into a \"training\" set and \"test\" set. The training set contains the first 1000 digits of `X`, and the test set contains the remaining ones. "
   ]
  },
  {
   "cell_type": "code",
   "execution_count": 18,
   "metadata": {
    "deletable": false,
    "nbgrader": {
     "checksum": "c7a936ec613aed237541f7e7bde226df",
     "grade": false,
     "grade_id": "cell-b112a1903fec8961",
     "locked": false,
     "schema_version": 1,
     "solution": true
    }
   },
   "outputs": [],
   "source": [
    "def train_test_split(x, y):\n",
    "    x_train= x[:1000]\n",
    "    x_test = x[1000:]\n",
    "    y_train= y[:1000]\n",
    "    y_test=  y[1000:]\n",
    "   \n",
    "    return x_train, x_test, y_train, y_test\n",
    "\n",
    "def predict(x_train, x_test, y_train):\n",
    "    y_test = npbatch(x_test,x_train,y_train)\n",
    "    return y_test"
   ]
  },
  {
   "cell_type": "code",
   "execution_count": 19,
   "metadata": {
    "deletable": false,
    "editable": false,
    "nbgrader": {
     "checksum": "42a919f09975d32c9fad66bce0ea887f",
     "grade": true,
     "grade_id": "cell-7bb424481c1f04b4",
     "locked": true,
     "points": 15,
     "schema_version": 1,
     "solution": false
    }
   },
   "outputs": [
    {
     "name": "stdout",
     "output_type": "stream",
     "text": [
      "[0, 7, 3, 5, 9, 4, 7, 2, 5, 6, 1, 2, 7, 0, 0, 6, 2, 2, 4, 4, 3, 4, 0, 2, 7, 9, 1, 4, 4, 4, 9, 4, 7, 7, 3, 1, 4, 9, 9, 3, 2, 4, 0, 4, 2, 7, 7, 5, 4, 1, 4, 5, 7, 9, 3, 7, 2, 8, 4, 9, 8, 3, 7, 6, 5, 5, 7, 4, 3, 7, 3, 5, 0, 3, 5, 0, 0, 7, 0, 5, 9, 3, 3, 4, 7, 9, 4, 8, 6, 4, 0, 0, 8, 2, 9, 4, 6, 4, 9, 0, 0, 3, 1, 6, 5, 1, 0, 1, 9, 2, 2, 8, 2, 6, 1, 1, 3, 8, 2, 3, 5, 5, 8, 0, 5, 4, 8, 0, 7, 3, 6, 4, 0, 8, 9, 4, 8, 9, 9, 7, 4, 4, 6, 8, 4, 5, 2, 9, 9, 4, 0, 5, 8, 5, 2, 2, 7, 6, 4, 8, 3, 0, 7, 6, 5, 6, 1, 0, 9, 3, 5, 6, 3, 6, 3, 3, 0, 0, 1, 4, 1, 1, 9, 3, 8, 8, 8, 8, 2, 0, 7, 6, 5, 6, 8, 2, 0, 6, 8, 6, 0, 0, 0, 6, 9, 3, 7, 0, 1, 8, 9, 9, 9, 1, 7, 0, 5, 5, 5, 6, 4, 1, 4, 8, 6, 6, 8, 3, 1, 0, 5, 2, 2, 6, 8, 4, 2, 1, 0, 4, 6, 9, 9, 6, 1, 7, 2, 3, 4, 0, 5, 5, 7, 4, 8, 1, 1, 7, 8, 7, 1, 7, 5, 1, 2, 1, 3, 2, 2, 9, 8, 7, 8, 2, 7, 2, 7, 1, 0, 9, 2, 8, 4, 2, 1, 0, 4, 2, 7, 2, 6, 9, 2, 1, 2, 5, 4, 7, 1, 6, 3, 4, 4, 7, 0, 0, 9, 9, 9, 9, 9, 9, 1, 1, 9, 5, 7, 3, 8, 4, 8, 6, 6, 3, 1, 8, 6, 8, 4, 3, 6, 2, 3, 2, 1, 1, 8, 1, 9, 4, 4, 9, 0, 1, 7, 9, 8, 3, 6, 2, 2, 5, 4, 1, 2, 6, 1, 1, 2, 3, 6, 7, 8, 3, 4, 4, 4, 6, 5, 9, 4, 6, 6, 1, 3, 2, 6, 5, 7, 9, 4, 7, 6, 8, 5, 6, 1, 9, 1, 9, 7, 5, 7, 8, 8, 5, 1, 0, 7, 2, 6, 9, 1, 0, 7, 3, 2, 2, 7, 3, 0, 7, 0, 9, 3, 8, 8, 3, 6, 2, 4, 2, 8, 5, 9, 6, 2, 7, 6, 2, 9, 5, 5, 3, 8, 2, 6, 2, 7, 5, 3, 8, 3, 0, 3, 0, 4, 0, 2, 8, 5, 1, 0, 7, 7, 3, 2, 7, 6, 8, 8, 3, 7, 4, 9, 5, 0, 4, 1, 1, 2, 1, 3, 6, 5, 0, 5, 1, 2, 6, 1, 5, 4, 7, 4, 8, 4, 1, 8, 8, 8, 8, 8, 7, 1, 8, 9, 3, 1, 2, 1, 2, 3, 0, 1, 6, 1, 3, 5, 3, 7, 1, 3, 6, 9, 3, 6, 6, 2, 3, 2, 0, 0, 1, 9, 6, 5, 9, 5, 9, 4, 4, 2, 5, 4, 9, 0, 0, 6, 2, 5, 7, 2, 1, 7, 0, 3, 0, 6, 2, 1, 6, 9, 9, 5, 8, 3, 3, 6, 6, 1, 6, 5, 7, 2, 8, 2, 3, 1, 0, 9, 3, 9, 7, 9, 3, 6, 9, 8, 7, 4, 6, 9, 7, 6, 8, 3, 5, 0, 3, 0, 4, 4, 3, 1, 4, 2, 6, 5, 6, 1, 7, 5, 6, 6, 3, 2, 9, 2, 3, 1, 1, 1, 2, 3, 3, 2, 0, 9, 4, 9, 8, 3, 2, 0, 0, 9, 5, 1, 3, 5, 5, 3, 6, 0, 3, 2, 0, 1, 9, 4, 0, 9, 6, 7, 8, 5, 0, 6, 5, 9, 3, 3, 9, 5, 5, 5, 6, 4, 3, 5, 6, 1, 4, 6, 8, 7, 1, 8, 6, 5, 2, 4, 6, 1, 1, 8, 2, 5, 7, 0, 6, 4, 3, 0, 9, 7, 0, 6, 5, 7, 7, 7, 5, 5, 4, 3, 5, 0, 3, 2, 5, 9, 3, 8, 1, 0, 6, 7, 3, 5, 2, 8, 9, 0, 8, 5, 2, 0, 7, 6, 5, 1, 6, 9, 9, 9, 4, 2, 6, 6, 4, 4, 4, 2, 3, 2, 0, 9, 2, 5, 3, 9, 3, 3, 6, 0, 0, 2, 3, 9, 5, 5, 6, 6, 4, 7, 0, 0, 9, 4, 7, 9, 7, 5, 4, 1, 0, 8, 1, 1, 6, 9, 2, 9, 7, 8, 5, 1, 0, 5, 6, 6, 9, 9, 6, 3, 4, 5, 1, 5, 6, 9, 1, 3, 4, 2]\n"
     ]
    }
   ],
   "source": [
    "x_train, x_test, y_train, y_test = train_test_split(X, Y)\n",
    "print(predict(x_train, x_test, y_train))"
   ]
  },
  {
   "cell_type": "markdown",
   "metadata": {},
   "source": [
    "Finally, in order to determine the accuracy of the classifier, we would like to compare the predictions with the ground truth (i.e. the true labels from the test data). Compute the fraction of the test set where the predictions of the nearest neighbor algorithm and labels disagree. "
   ]
  },
  {
   "cell_type": "code",
   "execution_count": 20,
   "metadata": {
    "deletable": false,
    "nbgrader": {
     "checksum": "110be8ce20c03980437c6a34c03e2734",
     "grade": false,
     "grade_id": "cell-e1a0f7833241b127",
     "locked": false,
     "schema_version": 1,
     "solution": true
    }
   },
   "outputs": [],
   "source": [
    "def evaluate(x_train, x_test, y_train, y_test):\n",
    "    testLabels = predict(x_train, x_test, y_train)\n",
    "    correctLabels = np.sum((np.asarray(testLabels) == np.asarray(y_test)))\n",
    "    totalLabels = len(y_test)\n",
    "    ratio_disagree = (totalLabels-correctLabels)/totalLabels\n",
    "\n",
    "    print(ratio_disagree*100)\n",
    "    return ratio_disagree"
   ]
  },
  {
   "cell_type": "code",
   "execution_count": 21,
   "metadata": {
    "deletable": false,
    "editable": false,
    "nbgrader": {
     "checksum": "d80063bef25cf2d2f7e14133db3807c5",
     "grade": true,
     "grade_id": "cell-2cf51ada3daa9bb6",
     "locked": true,
     "points": 5,
     "schema_version": 1,
     "solution": false
    }
   },
   "outputs": [
    {
     "name": "stdout",
     "output_type": "stream",
     "text": [
      "0.8782936010037641\n"
     ]
    }
   ],
   "source": [
    "x_train, x_test, y_train, y_test = train_test_split(X, Y)\n",
    "ratio_disagree = evaluate(x_train, x_test, y_train, y_test)\n",
    "assert 0 <= ratio_disagree <= 1"
   ]
  },
  {
   "cell_type": "code",
   "execution_count": null,
   "metadata": {},
   "outputs": [],
   "source": []
  }
 ],
 "metadata": {
  "kernelspec": {
   "display_name": "Python 3",
   "language": "python",
   "name": "python3"
  },
  "language_info": {
   "codemirror_mode": {
    "name": "ipython",
    "version": 3
   },
   "file_extension": ".py",
   "mimetype": "text/x-python",
   "name": "python",
   "nbconvert_exporter": "python",
   "pygments_lexer": "ipython3",
   "version": "3.7.3"
  }
 },
 "nbformat": 4,
 "nbformat_minor": 2
}
